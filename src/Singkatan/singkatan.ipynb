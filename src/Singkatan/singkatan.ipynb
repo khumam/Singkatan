{
 "cells": [
  {
   "cell_type": "code",
   "execution_count": 3,
   "metadata": {},
   "outputs": [],
   "source": [
    "import pandas as pd\n",
    "import numpy as np\n",
    "from os.path import exists"
   ]
  },
  {
   "cell_type": "code",
   "execution_count": 65,
   "metadata": {},
   "outputs": [],
   "source": [
    "class Singkatan:\n",
    "  def __init__(self):\n",
    "    self.dictionaryPath = ''\n",
    "    self.dictionary = pd.DataFrame(np.array([]))\n",
    "  \n",
    "  def importDictionary(self, path):\n",
    "    if not exists(path):\n",
    "      raise Exception('Dictionary not found')\n",
    "    \n",
    "    self.dictionaryPath = path\n",
    "    data = pd.read_csv(path, sep=';', header=None)\n",
    "    self.dictionary = pd.DataFrame(data)\n",
    "  \n",
    "  def convert(self, word):\n",
    "    for col, item in self.dictionary.iterrows():\n",
    "      if word == item[0]:\n",
    "        return item[1]\n"
   ]
  },
  {
   "cell_type": "code",
   "execution_count": 67,
   "metadata": {},
   "outputs": [
    {
     "name": "stdout",
     "output_type": "stream",
     "text": [
      "None\n"
     ]
    }
   ],
   "source": [
    "sng = Singkatan()\n",
    "sng.importDictionary('./dict/singkatan.csv')\n",
    "print(sng.convert('test'))"
   ]
  }
 ],
 "metadata": {
  "interpreter": {
   "hash": "31f2aee4e71d21fbe5cf8b01ff0e069b9275f58929596ceb00d14d90e3e16cd6"
  },
  "kernelspec": {
   "display_name": "Python 3.8.9 64-bit",
   "name": "python3"
  },
  "language_info": {
   "codemirror_mode": {
    "name": "ipython",
    "version": 3
   },
   "file_extension": ".py",
   "mimetype": "text/x-python",
   "name": "python",
   "nbconvert_exporter": "python",
   "pygments_lexer": "ipython3",
   "version": "3.8.9"
  },
  "orig_nbformat": 4
 },
 "nbformat": 4,
 "nbformat_minor": 2
}
